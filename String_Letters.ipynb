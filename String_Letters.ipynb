{
 "cells": [
  {
   "cell_type": "code",
   "execution_count": 2,
   "metadata": {},
   "outputs": [
    {
     "name": "stdout",
     "output_type": "stream",
     "text": [
      "n 6\n",
      "i 5\n",
      "a 5\n",
      "l 4\n",
      "s 3\n",
      "t 2\n",
      "p 2\n",
      "h 2\n",
      "e 2\n",
      "y 1\n",
      "r 1\n",
      "o 1\n",
      "m 1\n",
      "f 1\n"
     ]
    }
   ],
   "source": [
    "text = 'The rain in Spain falls mainly on the plains!!!!'\n",
    "\n",
    "\n",
    "def make_dict(x):\n",
    "    dictionary = {}\n",
    "    for letter in x:\n",
    "        dictionary[letter] = 1 + dictionary.get(letter, 0)\n",
    "    return dictionary\n",
    "\n",
    "\n",
    "def most_frequent(text):\n",
    "    letters = [letter.lower() for letter in text if letter.isalpha()]\n",
    "    dictionary = make_dict(letters)\n",
    "    result = []\n",
    "    for key in dictionary:\n",
    "        result.append((dictionary[key], key))\n",
    "    result.sort(reverse=True)\n",
    "    for count, letter in result:\n",
    "        print  (letter, count)\n",
    "\n",
    "most_frequent(text)"
   ]
  },
  {
   "cell_type": "code",
   "execution_count": null,
   "metadata": {},
   "outputs": [],
   "source": []
  }
 ],
 "metadata": {
  "kernelspec": {
   "display_name": "Python 3",
   "language": "python",
   "name": "python3"
  },
  "language_info": {
   "codemirror_mode": {
    "name": "ipython",
    "version": 3
   },
   "file_extension": ".py",
   "mimetype": "text/x-python",
   "name": "python",
   "nbconvert_exporter": "python",
   "pygments_lexer": "ipython3",
   "version": "3.8.5"
  }
 },
 "nbformat": 4,
 "nbformat_minor": 4
}
